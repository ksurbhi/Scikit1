{
  "nbformat": 4,
  "nbformat_minor": 0,
  "metadata": {
    "colab": {
      "provenance": []
    },
    "kernelspec": {
      "name": "python3",
      "display_name": "Python 3"
    },
    "language_info": {
      "name": "python"
    }
  },
  "cells": [
    {
      "cell_type": "markdown",
      "source": [
        "# Regression Model Summary from Scikit-Learn\n"
      ],
      "metadata": {
        "id": "6rTB8OSbSNzK"
      }
    },
    {
      "cell_type": "code",
      "source": [
        "from sklearn.linear_model import LinearRegression\n",
        "from sklearn.model_selection import train_test_split\n",
        "from sklearn.datasets import load_iris"
      ],
      "metadata": {
        "id": "GrTT04y_SQv3"
      },
      "execution_count": 2,
      "outputs": []
    },
    {
      "cell_type": "code",
      "source": [
        "# Load Data\n",
        "iris_data = load_iris()\n",
        "X = iris_data['data']\n",
        "y = iris_data['target']"
      ],
      "metadata": {
        "id": "bjwC9vSpTYbp"
      },
      "execution_count": 10,
      "outputs": []
    },
    {
      "cell_type": "code",
      "source": [
        "# Split data\n",
        "X_train, X_test, y_train,y_test = train_test_split(X,y,test_size = 0.2, random_state=0)\n"
      ],
      "metadata": {
        "id": "17bUpMIbTY21"
      },
      "execution_count": 11,
      "outputs": []
    },
    {
      "cell_type": "code",
      "source": [
        "#initialize model, fit model and predict of test data\n",
        "model_LR = LinearRegression()\n",
        "model_LR.fit(X_train,y_train)\n",
        "y_pred = model_LR.predict(X_test)\n",
        "y_pred"
      ],
      "metadata": {
        "colab": {
          "base_uri": "https://localhost:8080/"
        },
        "id": "jitElEmIUMV_",
        "outputId": "aad27eee-f40d-43a8-ed9f-cfd79313b999"
      },
      "execution_count": 14,
      "outputs": [
        {
          "output_type": "execute_result",
          "data": {
            "text/plain": [
              "array([ 2.06844113,  0.96345869, -0.14707913,  1.81304847, -0.03927091,\n",
              "        2.26261445, -0.02790835,  1.31919261,  1.28225236,  1.11236814,\n",
              "        1.54774304,  1.3013147 ,  1.21150471,  1.32946956,  1.32977882,\n",
              "       -0.12060477,  1.35574095,  1.21453128,  0.03610115, -0.02518356,\n",
              "        1.79941543,  1.39427904,  0.07356109,  0.02146025,  1.59050985,\n",
              "       -0.11917603,  0.14803648,  1.16645127,  0.90550234,  0.10586947])"
            ]
          },
          "metadata": {},
          "execution_count": 14
        }
      ]
    },
    {
      "cell_type": "code",
      "source": [
        "# Summary of the model\n",
        "print('model intercept: ',model_LR.intercept_)\n",
        "print('model coefficients: ',model_LR.coef_)\n",
        "print('model score: ', model_LR.score(X,y))"
      ],
      "metadata": {
        "colab": {
          "base_uri": "https://localhost:8080/"
        },
        "id": "rgJ64etZU9cT",
        "outputId": "802db7b2-da6a-4077-9b6b-6d469f2a425a"
      },
      "execution_count": 18,
      "outputs": [
        {
          "output_type": "stream",
          "name": "stdout",
          "text": [
            "model intercept:  0.16149541375178744\n",
            "model coefficients:  [-0.10627533 -0.0397204   0.22894234  0.61123074]\n",
            "model score:  0.9300985637378059\n"
          ]
        }
      ]
    }
  ]
}